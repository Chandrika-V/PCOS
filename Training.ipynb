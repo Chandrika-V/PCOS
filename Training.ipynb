{
  "cells": [
    {
      "cell_type": "code",
      "execution_count": 1,
      "metadata": {
        "id": "kYOVjRhGj0EM"
      },
      "outputs": [],
      "source": [
        "import os\n",
        "from google.colab import files\n",
        "import pandas as pd\n",
        "import cv2"
      ]
    },
    {
      "cell_type": "code",
      "execution_count": 2,
      "metadata": {
        "colab": {
          "base_uri": "https://localhost:8080/"
        },
        "id": "NwBvsK7pj6Nb",
        "outputId": "2e00c5ab-6fbf-4ad3-e35b-bac769cff9eb"
      },
      "outputs": [
        {
          "name": "stdout",
          "output_type": "stream",
          "text": [
            "Mounted at /content/gdrive\n"
          ]
        }
      ],
      "source": [
        "#from google.colab import drive\n",
        "#drive.mount('/content/gdrive')"
      ]
    },
    {
      "cell_type": "code",
      "execution_count": 3,
      "metadata": {
        "colab": {
          "base_uri": "https://localhost:8080/"
        },
        "id": "63KTR5j0j6qJ",
        "outputId": "97d2a13a-de15-44ec-9beb-8b4a5b401374"
      },
      "outputs": [
        {
          "name": "stdout",
          "output_type": "stream",
          "text": [
            "Collecting Augmentor\n",
            "  Downloading Augmentor-0.2.12-py2.py3-none-any.whl (38 kB)\n",
            "Requirement already satisfied: Pillow>=5.2.0 in /usr/local/lib/python3.10/dist-packages (from Augmentor) (9.4.0)\n",
            "Requirement already satisfied: tqdm>=4.9.0 in /usr/local/lib/python3.10/dist-packages (from Augmentor) (4.66.2)\n",
            "Requirement already satisfied: numpy>=1.11.0 in /usr/local/lib/python3.10/dist-packages (from Augmentor) (1.25.2)\n",
            "Installing collected packages: Augmentor\n",
            "Successfully installed Augmentor-0.2.12\n"
          ]
        }
      ],
      "source": [
        "pip install Augmentor"
      ]
    },
    {
      "cell_type": "code",
      "execution_count": 4,
      "metadata": {
        "id": "-mxs0w_Jmg8O"
      },
      "outputs": [],
      "source": [
        "import Augmentor"
      ]
    },
    {
      "cell_type": "code",
      "execution_count": 5,
      "metadata": {
        "colab": {
          "base_uri": "https://localhost:8080/"
        },
        "id": "fHbsXvBQmmdq",
        "outputId": "1b0b1c02-d038-4a95-db5d-a97d150a7fa7"
      },
      "outputs": [
        {
          "name": "stdout",
          "output_type": "stream",
          "text": [
            "Initialised with 3200 image(s) found.\n",
            "Output directory set to /content/gdrive/MyDrive/Output."
          ]
        }
      ],
      "source": [
        "p = Augmentor.Pipeline(\"Path to the training dataset\", output_directory = \"path to the augmented dataset\")\n"
      ]
    },
    {
      "cell_type": "code",
      "execution_count": 6,
      "metadata": {
        "id": "hjjCguWswJyJ"
      },
      "outputs": [],
      "source": [
        "p.rotate(probability = 0.7, max_left_rotation = 10, max_right_rotation = 10)"
      ]
    },
    {
      "cell_type": "code",
      "execution_count": 7,
      "metadata": {
        "id": "fhxBxZW2wieZ"
      },
      "outputs": [],
      "source": [
        "p.zoom(probability = 0.3, min_factor = 1.1, max_factor = 1.6)"
      ]
    },
    {
      "cell_type": "code",
      "execution_count": 8,
      "metadata": {
        "colab": {
          "base_uri": "https://localhost:8080/"
        },
        "id": "JJrFtffrwknF",
        "outputId": "78a605bd-7ded-4712-b213-b1f2f99b9517"
      },
      "outputs": [
        {
          "name": "stderr",
          "output_type": "stream",
          "text": [
            "Processing <PIL.Image.Image image mode=RGB size=239x279 at 0x7C1A4A637190>: 100%|██████████| 6000/6000 [00:45<00:00, 131.05 Samples/s]\n"
          ]
        }
      ],
      "source": [
        "p.sample(6000)"
      ]
    },
    {
      "cell_type": "code",
      "execution_count": 9,
      "metadata": {
        "id": "tBicRlHx4aGv"
      },
      "outputs": [],
      "source": [
        "import pathlib\n",
        "import tensorflow as tf\n",
        "\n",
        "data_dir = pathlib.Path(\"path to the Augmented dataset\")\n",
        "img_width = 224\n",
        "img_height = 224"
      ]
    },
    {
      "cell_type": "code",
      "execution_count": 10,
      "metadata": {
        "colab": {
          "base_uri": "https://localhost:8080/"
        },
        "id": "zcQU8-a_5ZNh",
        "outputId": "e3cdc290-fe4a-431d-ae2a-2ac847e33e5e"
      },
      "outputs": [
        {
          "name": "stdout",
          "output_type": "stream",
          "text": [
            "Found 6000 files belonging to 2 classes.\n",
            "Using 4800 files for training.\n"
          ]
        }
      ],
      "source": [
        "train_ds = tf.keras.utils.image_dataset_from_directory(\n",
        "  data_dir,\n",
        "  validation_split=0.2,\n",
        "  subset=\"training\",\n",
        "  seed=123,\n",
        "  image_size=(img_width, img_height),\n",
        "  batch_size=32)"
      ]
    },
    {
      "cell_type": "code",
      "execution_count": 13,
      "metadata": {
        "colab": {
          "base_uri": "https://localhost:8080/"
        },
        "id": "nj4ZunmP52qu",
        "outputId": "53256558-f064-4784-b3a4-ba9b8f882ca1"
      },
      "outputs": [
        {
          "name": "stdout",
          "output_type": "stream",
          "text": [
            "Found 6000 files belonging to 2 classes.\n",
            "Using 1200 files for validation.\n"
          ]
        }
      ],
      "source": [
        "val_ds = tf.keras.utils.image_dataset_from_directory(\n",
        "  data_dir,\n",
        "  validation_split=0.2,\n",
        "  subset=\"validation\",\n",
        "  seed=123,\n",
        "  image_size=(img_width, img_height),\n",
        "  batch_size=32)"
      ]
    },
    {
      "cell_type": "code",
      "execution_count": 14,
      "metadata": {
        "id": "c74lumi16VLh"
      },
      "outputs": [],
      "source": [
        "normalization_layer = tf.keras.layers.Rescaling(1./255)"
      ]
    },
    {
      "cell_type": "code",
      "execution_count": 15,
      "metadata": {
        "colab": {
          "base_uri": "https://localhost:8080/"
        },
        "id": "g7MLF0M-6oM4",
        "outputId": "2baf367d-5267-4d93-c8eb-1ba2cefb2d0c"
      },
      "outputs": [
        {
          "name": "stdout",
          "output_type": "stream",
          "text": [
            "0.0 0.97878593\n"
          ]
        }
      ],
      "source": [
        "import numpy as np\n",
        "normalized_ds = train_ds.map(lambda x, y: (normalization_layer(x), y))\n",
        "image_batch, labels_batch = next(iter(normalized_ds))\n",
        "first_image = image_batch[0]\n",
        "# Notice the pixels values are now in `[0,1]`.\n",
        "print(np.min(first_image), np.max(first_image))"
      ]
    },
    {
      "cell_type": "code",
      "execution_count": 16,
      "metadata": {
        "id": "yJtuc2H67VS4"
      },
      "outputs": [],
      "source": [
        "AUTOTUNE = tf.data.AUTOTUNE\n",
        "train_ds = train_ds.cache().shuffle(1000).prefetch(buffer_size=AUTOTUNE)\n",
        "val_ds = val_ds.cache().prefetch(buffer_size=AUTOTUNE)"
      ]
    },
    {
      "cell_type": "code",
      "execution_count": 25,
      "metadata": {
        "id": "SScZbp387qIR"
      },
      "outputs": [],
      "source": [
        "import tensorflow as tf\n",
        "from tensorflow.keras import layers, models\n",
        "from tensorflow.keras.optimizers import Adam\n",
        "from keras.layers import Dropout\n",
        "from tensorflow.keras.layers import MaxPooling2D\n",
        "from tensorflow.keras.layers import Conv2D, concatenate\n",
        "from tensorflow.keras.layers import Input, MaxPooling2D, AveragePooling2D, Flatten, Dense, Dropout\n",
        "from tensorflow.keras.models import Model\n",
        "\n",
        "\n",
        "\n",
        "def inception_module_1(x):\n",
        "\n",
        "  conv_1x1 = layers.Conv2D(64, kernel_size = (1, 1), strides=(1, 1), dilation_rate=(1, 1), activation = 'relu')(x)\n",
        "\n",
        "  conv_1x1_2 = layers.Conv2D(64, kernel_size = (1, 1), strides=(1, 1), dilation_rate=(1, 1), activation = 'relu')(x)\n",
        "  conv_1x1_2 = layers.Conv2D(64, kernel_size = (3, 3), strides=(1, 1), dilation_rate=(1, 1), activation = 'relu')(conv_1x1_2)\n",
        "\n",
        "  conv_1x1_3 = layers.Conv2D(64, kernel_size = (1, 1), strides=(1, 1), dilation_rate=(1, 1), activation = 'relu')(x)\n",
        "  conv_1x1_3 = layers.Conv2D(64, kernel_size = (5, 5), strides=(1, 1), dilation_rate=(1, 1), activation = 'relu')(conv_1x1_3)\n",
        "\n",
        "  conv_1x1_4 = layers.Conv2D(64, kernel_size = (1, 1), strides=(1, 1), dilation_rate=(1, 1), activation = 'relu')(x)\n",
        "  conv_1x1_4 = layers.Conv2D(64, kernel_size = (7, 7), strides=(1, 1), dilation_rate=(1, 1), activation = 'relu')(conv_1x1_4)\n",
        "\n",
        "  maxPool_2x2 = layers.MaxPooling2D((2, 2), strides=(1, 1))(x)\n",
        "\n",
        "  conv_1x1 = layers.Resizing(224,224)(conv_1x1)\n",
        "  conv_1x1_2 = layers.Resizing(224,224)(conv_1x1_2)\n",
        "  conv_1x1_3 = layers.Resizing(224,224)(conv_1x1_3)\n",
        "  conv_1x1_4 = layers.Resizing(224,224)(conv_1x1_4)\n",
        "  maxPool_2x2 = layers.Resizing(224,224)(maxPool_2x2)\n",
        "\n",
        "  inceptionModule_1 = layers.Concatenate()([conv_1x1, conv_1x1_2, conv_1x1_3, conv_1x1_4, maxPool_2x2])\n",
        "\n",
        "  return inceptionModule_1\n",
        "\n",
        "\n",
        "def inception_module_2(x):\n",
        "  conv_3x3 = Conv2D(64, kernel_size = (3, 3), strides = (1, 1), activation = 'relu')(x)\n",
        "  conv_5x5 = Conv2D(64, kernel_size = (5, 5), strides = (1, 1), activation = 'relu')(x)\n",
        "  conv_7x7 = Conv2D(64, kernel_size = (7, 7), strides = (1, 1), activation = 'relu')(x)\n",
        "  maxPool_2x2 = layers.MaxPooling2D((2, 2), strides=(1, 1))(x)\n",
        "\n",
        "  conv_3x3 = layers.Resizing(224,224)(conv_3x3)\n",
        "  conv_5x5 = layers.Resizing(224,224)(conv_5x5)\n",
        "  conv_7x7 = layers.Resizing(224,224)(conv_7x7)\n",
        "  maxPool_2x2 = layers.Resizing(224,224)(maxPool_2x2)\n",
        "\n",
        "\n",
        "  inceptionModule_2 = layers.concatenate([conv_3x3, conv_5x5, conv_7x7, maxPool_2x2])\n",
        "\n",
        "  return inceptionModule_2\n",
        "\n",
        "def inception_module_3(x):\n",
        "  conv_9x9 = layers.Conv2D(64, kernel_size = (9, 9), strides = (2, 2), activation = 'relu')(x)\n",
        "  conv_13x13 = layers.Conv2D(64, kernel_size = (13, 13), strides = (2, 2), activation = 'relu')(x)\n",
        "  conv_15x15 = layers.Conv2D(64, kernel_size = (15, 15), strides = (2, 2), activation = 'relu')(x)\n",
        "  maxPool_2x2 = layers.MaxPooling2D((2, 2), strides=(1, 1))(x)\n",
        "\n",
        "  conv_9x9 = layers.Resizing(224,224)(conv_9x9)\n",
        "  conv_13x13 = layers.Resizing(224,224)(conv_13x13)\n",
        "  conv_15x15 = layers.Resizing(224,224)(conv_15x15)\n",
        "  maxPool_2x2 = layers.Resizing(224,224)(maxPool_2x2)\n",
        "\n",
        "  inceptionModule_3 = layers.concatenate([conv_9x9, conv_13x13, conv_15x15, maxPool_2x2])\n",
        "\n",
        "  return inceptionModule_3\n",
        "\n",
        "def build_vgg19():\n",
        "  input_tensor = tf.keras.Input(shape=(224, 224, 3))\n",
        "\n",
        "  #BLOCK - 1\n",
        "  x = layers.Conv2D(64, (3, 3), strides = (1, 1), activation='relu', padding='same')(input_tensor)\n",
        "  x = layers.Conv2D(64, (3, 3), strides = (1, 1), activation='relu', padding='same')(x)\n",
        "  #Inception Module 1\n",
        "  inception_Module_1 = inception_module_1(x)\n",
        "  x = layers.MaxPooling2D((2, 2), strides=(2, 2))(inception_Module_1)\n",
        "  #x = layers.MaxPooling2D((2, 2), strides=(2, 2))(x)\n",
        "\n",
        "\n",
        "  #BLOCK - 2\n",
        "  x = layers.Conv2D(128, (3, 3), strides = (1, 1), activation='relu', padding='same')(x)\n",
        "  x = layers.Conv2D(128, (3, 3), strides = (1, 1), activation='relu', padding='same')(x)\n",
        "  #Inception_module_2\n",
        "  inception_Module_2 = inception_module_2(x)\n",
        "  x = layers.MaxPooling2D((2, 2), strides=(2, 2))(inception_Module_2)\n",
        "  #x = layers.MaxPooling2D((2, 2), strides=(2, 2))(x)\n",
        "\n",
        "  #BLOCK - 3\n",
        "  x = layers.Conv2D(256, (3, 3), strides = (1, 1), activation='relu', padding='same')(x)\n",
        "  x = layers.Conv2D(256, (3, 3), strides = (1, 1), activation='relu', padding='same')(x)\n",
        "  #Inception_module_3\n",
        "  inception_Module_3 = inception_module_3(x)\n",
        "  x = layers.Conv2D(256, (3, 3), strides = (1, 1), activation='relu', padding='same')(inception_Module_3)\n",
        "  #x = layers.Conv2D(256, (3, 3), strides = (1, 1), activation='relu', padding='same')(x)\n",
        "  x = layers.Conv2D(256, (3, 3), strides = (1, 1), activation='relu', padding='same')(x)\n",
        "  x = layers.Conv2D(256, (3, 3), strides = (1, 1), activation='relu', padding='same')(x)\n",
        "  x = layers.MaxPooling2D((2, 2), strides=(2, 2))(x)\n",
        "\n",
        "  #BLOCK - 4\n",
        "  x = layers.Conv2D(512, (3, 3), strides = (1, 1), activation='relu', padding='same')(x)\n",
        "  x = layers.Conv2D(512, (3, 3), strides = (1, 1), activation='relu', padding='same')(x)\n",
        "  x = layers.Conv2D(512, (3, 3), strides = (1, 1), activation='relu', padding='same')(x)\n",
        "  x = layers.Conv2D(512, (3, 3), strides = (1, 1), activation='relu', padding='same')(x)\n",
        "  x = layers.MaxPooling2D((2, 2), strides=(2, 2))(x)\n",
        "\n",
        "  #BLOCK - 5\n",
        "  x = layers.Conv2D(512, (3, 3), strides = (1, 1), activation='relu', padding='same')(x)\n",
        "  x = layers.Conv2D(512, (3, 3), strides = (1, 1), activation='relu', padding='same')(x)\n",
        "  x = layers.Conv2D(512, (3, 3), strides = (1, 1), activation='relu', padding='same')(x)\n",
        "  x = layers.Conv2D(512, (3, 3), strides = (1, 1), activation='relu', padding='same')(x)\n",
        "  x = layers.MaxPooling2D((2, 2), strides=(2, 2))(x)\n",
        "\n",
        "  #Flatten and Fully Connected Layer\n",
        "  x = layers.Flatten()(x)\n",
        "  x = layers.Dense(1024, activation='relu')(x)\n",
        "  x = layers.Dense(1024, activation='relu')(x)\n",
        "  #x = layers.Dropout(0.5)(x)\n",
        "  x = layers.Dense(2, activation='softmax')(x)\n",
        "\n",
        "  model = tf.keras.Model(inputs = input_tensor, outputs = x)\n",
        "  return model\n"
      ]
    },
    {
      "cell_type": "code",
      "execution_count": 27,
      "metadata": {
        "colab": {
          "base_uri": "https://localhost:8080/"
        },
        "id": "4PQdO29b_AHA",
        "outputId": "bd4cfdd1-8382-4c0d-ab87-2912e44a2161"
      },
      "outputs": [
        {
          "name": "stdout",
          "output_type": "stream",
          "text": [
            "Model: \"model_3\"\n",
            "__________________________________________________________________________________________________\n",
            " Layer (type)                Output Shape                 Param #   Connected to                  \n",
            "==================================================================================================\n",
            " input_6 (InputLayer)        [(None, 224, 224, 3)]        0         []                            \n",
            "                                                                                                  \n",
            " conv2d_30 (Conv2D)          (None, 224, 224, 64)         1792      ['input_6[0][0]']             \n",
            "                                                                                                  \n",
            " conv2d_31 (Conv2D)          (None, 224, 224, 64)         36928     ['conv2d_30[0][0]']           \n",
            "                                                                                                  \n",
            " conv2d_33 (Conv2D)          (None, 224, 224, 64)         4160      ['conv2d_31[0][0]']           \n",
            "                                                                                                  \n",
            " conv2d_35 (Conv2D)          (None, 224, 224, 64)         4160      ['conv2d_31[0][0]']           \n",
            "                                                                                                  \n",
            " conv2d_37 (Conv2D)          (None, 224, 224, 64)         4160      ['conv2d_31[0][0]']           \n",
            "                                                                                                  \n",
            " conv2d_32 (Conv2D)          (None, 224, 224, 64)         4160      ['conv2d_31[0][0]']           \n",
            "                                                                                                  \n",
            " conv2d_34 (Conv2D)          (None, 222, 222, 64)         36928     ['conv2d_33[0][0]']           \n",
            "                                                                                                  \n",
            " conv2d_36 (Conv2D)          (None, 220, 220, 64)         102464    ['conv2d_35[0][0]']           \n",
            "                                                                                                  \n",
            " conv2d_38 (Conv2D)          (None, 218, 218, 64)         200768    ['conv2d_37[0][0]']           \n",
            "                                                                                                  \n",
            " max_pooling2d_8 (MaxPoolin  (None, 223, 223, 64)         0         ['conv2d_31[0][0]']           \n",
            " g2D)                                                                                             \n",
            "                                                                                                  \n",
            " resizing_13 (Resizing)      (None, 224, 224, 64)         0         ['conv2d_32[0][0]']           \n",
            "                                                                                                  \n",
            " resizing_14 (Resizing)      (None, 224, 224, 64)         0         ['conv2d_34[0][0]']           \n",
            "                                                                                                  \n",
            " resizing_15 (Resizing)      (None, 224, 224, 64)         0         ['conv2d_36[0][0]']           \n",
            "                                                                                                  \n",
            " resizing_16 (Resizing)      (None, 224, 224, 64)         0         ['conv2d_38[0][0]']           \n",
            "                                                                                                  \n",
            " resizing_17 (Resizing)      (None, 224, 224, 64)         0         ['max_pooling2d_8[0][0]']     \n",
            "                                                                                                  \n",
            " concatenate_3 (Concatenate  (None, 224, 224, 320)        0         ['resizing_13[0][0]',         \n",
            " )                                                                   'resizing_14[0][0]',         \n",
            "                                                                     'resizing_15[0][0]',         \n",
            "                                                                     'resizing_16[0][0]',         \n",
            "                                                                     'resizing_17[0][0]']         \n",
            "                                                                                                  \n",
            " max_pooling2d_9 (MaxPoolin  (None, 112, 112, 320)        0         ['concatenate_3[0][0]']       \n",
            " g2D)                                                                                             \n",
            "                                                                                                  \n",
            " conv2d_39 (Conv2D)          (None, 112, 112, 128)        368768    ['max_pooling2d_9[0][0]']     \n",
            "                                                                                                  \n",
            " conv2d_40 (Conv2D)          (None, 112, 112, 128)        147584    ['conv2d_39[0][0]']           \n",
            "                                                                                                  \n",
            " conv2d_41 (Conv2D)          (None, 110, 110, 64)         73792     ['conv2d_40[0][0]']           \n",
            "                                                                                                  \n",
            " conv2d_42 (Conv2D)          (None, 108, 108, 64)         204864    ['conv2d_40[0][0]']           \n",
            "                                                                                                  \n",
            " conv2d_43 (Conv2D)          (None, 106, 106, 64)         401472    ['conv2d_40[0][0]']           \n",
            "                                                                                                  \n",
            " max_pooling2d_10 (MaxPooli  (None, 111, 111, 128)        0         ['conv2d_40[0][0]']           \n",
            " ng2D)                                                                                            \n",
            "                                                                                                  \n",
            " resizing_18 (Resizing)      (None, 224, 224, 64)         0         ['conv2d_41[0][0]']           \n",
            "                                                                                                  \n",
            " resizing_19 (Resizing)      (None, 224, 224, 64)         0         ['conv2d_42[0][0]']           \n",
            "                                                                                                  \n",
            " resizing_20 (Resizing)      (None, 224, 224, 64)         0         ['conv2d_43[0][0]']           \n",
            "                                                                                                  \n",
            " resizing_21 (Resizing)      (None, 224, 224, 128)        0         ['max_pooling2d_10[0][0]']    \n",
            "                                                                                                  \n",
            " concatenate_4 (Concatenate  (None, 224, 224, 320)        0         ['resizing_18[0][0]',         \n",
            " )                                                                   'resizing_19[0][0]',         \n",
            "                                                                     'resizing_20[0][0]',         \n",
            "                                                                     'resizing_21[0][0]']         \n",
            "                                                                                                  \n",
            " max_pooling2d_11 (MaxPooli  (None, 112, 112, 320)        0         ['concatenate_4[0][0]']       \n",
            " ng2D)                                                                                            \n",
            "                                                                                                  \n",
            " conv2d_44 (Conv2D)          (None, 112, 112, 256)        737536    ['max_pooling2d_11[0][0]']    \n",
            "                                                                                                  \n",
            " conv2d_45 (Conv2D)          (None, 112, 112, 256)        590080    ['conv2d_44[0][0]']           \n",
            "                                                                                                  \n",
            " conv2d_46 (Conv2D)          (None, 52, 52, 64)           1327168   ['conv2d_45[0][0]']           \n",
            "                                                                                                  \n",
            " conv2d_47 (Conv2D)          (None, 50, 50, 64)           2768960   ['conv2d_45[0][0]']           \n",
            "                                                                                                  \n",
            " conv2d_48 (Conv2D)          (None, 49, 49, 64)           3686464   ['conv2d_45[0][0]']           \n",
            "                                                                                                  \n",
            " max_pooling2d_12 (MaxPooli  (None, 111, 111, 256)        0         ['conv2d_45[0][0]']           \n",
            " ng2D)                                                                                            \n",
            "                                                                                                  \n",
            " resizing_22 (Resizing)      (None, 224, 224, 64)         0         ['conv2d_46[0][0]']           \n",
            "                                                                                                  \n",
            " resizing_23 (Resizing)      (None, 224, 224, 64)         0         ['conv2d_47[0][0]']           \n",
            "                                                                                                  \n",
            " resizing_24 (Resizing)      (None, 224, 224, 64)         0         ['conv2d_48[0][0]']           \n",
            "                                                                                                  \n",
            " resizing_25 (Resizing)      (None, 224, 224, 256)        0         ['max_pooling2d_12[0][0]']    \n",
            "                                                                                                  \n",
            " concatenate_5 (Concatenate  (None, 224, 224, 448)        0         ['resizing_22[0][0]',         \n",
            " )                                                                   'resizing_23[0][0]',         \n",
            "                                                                     'resizing_24[0][0]',         \n",
            "                                                                     'resizing_25[0][0]']         \n",
            "                                                                                                  \n",
            " conv2d_49 (Conv2D)          (None, 224, 224, 256)        1032448   ['concatenate_5[0][0]']       \n",
            "                                                                                                  \n",
            " conv2d_50 (Conv2D)          (None, 224, 224, 256)        590080    ['conv2d_49[0][0]']           \n",
            "                                                                                                  \n",
            " conv2d_51 (Conv2D)          (None, 224, 224, 256)        590080    ['conv2d_50[0][0]']           \n",
            "                                                                                                  \n",
            " max_pooling2d_13 (MaxPooli  (None, 112, 112, 256)        0         ['conv2d_51[0][0]']           \n",
            " ng2D)                                                                                            \n",
            "                                                                                                  \n",
            " conv2d_52 (Conv2D)          (None, 112, 112, 512)        1180160   ['max_pooling2d_13[0][0]']    \n",
            "                                                                                                  \n",
            " conv2d_53 (Conv2D)          (None, 112, 112, 512)        2359808   ['conv2d_52[0][0]']           \n",
            "                                                                                                  \n",
            " conv2d_54 (Conv2D)          (None, 112, 112, 512)        2359808   ['conv2d_53[0][0]']           \n",
            "                                                                                                  \n",
            " conv2d_55 (Conv2D)          (None, 112, 112, 512)        2359808   ['conv2d_54[0][0]']           \n",
            "                                                                                                  \n",
            " max_pooling2d_14 (MaxPooli  (None, 56, 56, 512)          0         ['conv2d_55[0][0]']           \n",
            " ng2D)                                                                                            \n",
            "                                                                                                  \n",
            " conv2d_56 (Conv2D)          (None, 56, 56, 512)          2359808   ['max_pooling2d_14[0][0]']    \n",
            "                                                                                                  \n",
            " conv2d_57 (Conv2D)          (None, 56, 56, 512)          2359808   ['conv2d_56[0][0]']           \n",
            "                                                                                                  \n",
            " conv2d_58 (Conv2D)          (None, 56, 56, 512)          2359808   ['conv2d_57[0][0]']           \n",
            "                                                                                                  \n",
            " conv2d_59 (Conv2D)          (None, 56, 56, 512)          2359808   ['conv2d_58[0][0]']           \n",
            "                                                                                                  \n",
            " max_pooling2d_15 (MaxPooli  (None, 28, 28, 512)          0         ['conv2d_59[0][0]']           \n",
            " ng2D)                                                                                            \n",
            "                                                                                                  \n",
            " flatten_1 (Flatten)         (None, 401408)               0         ['max_pooling2d_15[0][0]']    \n",
            "                                                                                                  \n",
            " dense_11 (Dense)            (None, 1024)                 4110428   ['flatten_1[0][0]']           \n",
            "                                                          16                                      \n",
            "                                                                                                  \n",
            " dense_12 (Dense)            (None, 1024)                 1049600   ['dense_11[0][0]']            \n",
            "                                                                                                  \n",
            " dense_13 (Dense)            (None, 2)                    2050      ['dense_12[0][0]']            \n",
            "                                                                                                  \n",
            "==================================================================================================\n",
            "Total params: 442708098 (1.65 GB)\n",
            "Trainable params: 442708098 (1.65 GB)\n",
            "Non-trainable params: 0 (0.00 Byte)\n",
            "__________________________________________________________________________________________________\n",
            "None\n"
          ]
        }
      ],
      "source": [
        "# Create the VGG-19 model\n",
        "vgg19_model = build_vgg19()\n",
        "\n",
        "# Compile the model\n",
        "vgg19_model.compile(optimizer=Adam(learning_rate=0.0001), loss='sparse_categorical_crossentropy', metrics=['accuracy'])\n",
        "\n",
        "print(vgg19_model.summary())"
      ]
    },
    {
      "cell_type": "code",
      "execution_count": 28,
      "metadata": {
        "id": "lKV5lLK_81q1"
      },
      "outputs": [],
      "source": [
        "from tensorflow.keras.callbacks import ModelCheckpoint\n",
        "\n",
        "model_filepath = \"path to save your model\"\n",
        "checkpoint = ModelCheckpoint(\n",
        "    filepath = model_filepath,\n",
        "    monitor = 'val_accuracy',\n",
        "    mode = 'max',\n",
        "    save_best_only = True,\n",
        "    verbose = 1\n",
        ")"
      ]
    },
    {
      "cell_type": "code",
      "execution_count": 29,
      "metadata": {
        "colab": {
          "base_uri": "https://localhost:8080/"
        },
        "id": "nSBFB7AN9ZIs",
        "outputId": "817bb8f3-0445-46e9-aff7-a6f338447c93"
      },
      "outputs": [
        {
          "name": "stdout",
          "output_type": "stream",
          "text": [
            "Epoch 1/20\n",
            "150/150 [==============================] - ETA: 0s - loss: 0.6939 - accuracy: 0.7110\n",
            "Epoch 1: val_accuracy improved from -inf to 0.74083, saving model to /content/gdrive/MyDrive/model-01-0.7408.hdf5\n"
          ]
        },
        {
          "name": "stderr",
          "output_type": "stream",
          "text": [
            "/usr/local/lib/python3.10/dist-packages/keras/src/engine/training.py:3103: UserWarning: You are saving your model as an HDF5 file via `model.save()`. This file format is considered legacy. We recommend using instead the native Keras format, e.g. `model.save('my_model.keras')`.\n",
            "  saving_api.save_model(\n"
          ]
        },
        {
          "name": "stdout",
          "output_type": "stream",
          "text": [
            "\b\b\b\b\b\b\b\b\b\b\b\b\b\b\b\b\b\b\b\b\b\b\b\b\b\b\b\b\b\b\b\b\b\b\b\b\b\b\b\b\b\b\b\b\b\b\b\b\b\b\b\b\b\b\b\b\b\b\b\b\b\b\b\b\b\b\b\b\b\b\b\b\b\b\b\b\b\b\b\b\b\b\b\b\r150/150 [==============================] - 246s 1s/step - loss: 0.6939 - accuracy: 0.7110 - val_loss: 0.5925 - val_accuracy: 0.7408\n",
            "Epoch 2/20\n",
            "150/150 [==============================] - ETA: 0s - loss: 0.5398 - accuracy: 0.7113\n",
            "Epoch 2: val_accuracy improved from 0.74083 to 0.74250, saving model to /content/gdrive/MyDrive/model-02-0.7425.hdf5\n",
            "150/150 [==============================] - 144s 961ms/step - loss: 0.5398 - accuracy: 0.7113 - val_loss: 0.4890 - val_accuracy: 0.7425\n",
            "Epoch 3/20\n",
            "150/150 [==============================] - ETA: 0s - loss: 0.5151 - accuracy: 0.7098\n",
            "Epoch 3: val_accuracy did not improve from 0.74250\n",
            "150/150 [==============================] - 130s 869ms/step - loss: 0.5151 - accuracy: 0.7098 - val_loss: 0.4807 - val_accuracy: 0.7425\n",
            "Epoch 4/20\n",
            "150/150 [==============================] - ETA: 0s - loss: 0.5060 - accuracy: 0.7127\n",
            "Epoch 4: val_accuracy improved from 0.74250 to 0.75417, saving model to /content/gdrive/MyDrive/model-04-0.7542.hdf5\n",
            "150/150 [==============================] - 145s 967ms/step - loss: 0.5060 - accuracy: 0.7127 - val_loss: 0.4893 - val_accuracy: 0.7542\n",
            "Epoch 5/20\n",
            "150/150 [==============================] - ETA: 0s - loss: 0.4964 - accuracy: 0.7165\n",
            "Epoch 5: val_accuracy did not improve from 0.75417\n",
            "150/150 [==============================] - 130s 867ms/step - loss: 0.4964 - accuracy: 0.7165 - val_loss: 0.4793 - val_accuracy: 0.7433\n",
            "Epoch 6/20\n",
            "150/150 [==============================] - ETA: 0s - loss: 0.4741 - accuracy: 0.7283\n",
            "Epoch 6: val_accuracy did not improve from 0.75417\n",
            "150/150 [==============================] - 130s 867ms/step - loss: 0.4741 - accuracy: 0.7283 - val_loss: 0.4959 - val_accuracy: 0.7417\n",
            "Epoch 7/20\n",
            "150/150 [==============================] - ETA: 0s - loss: 0.4640 - accuracy: 0.7333\n",
            "Epoch 7: val_accuracy did not improve from 0.75417\n",
            "150/150 [==============================] - 130s 866ms/step - loss: 0.4640 - accuracy: 0.7333 - val_loss: 0.4827 - val_accuracy: 0.7517\n",
            "Epoch 8/20\n",
            "150/150 [==============================] - ETA: 0s - loss: 0.4444 - accuracy: 0.7490\n",
            "Epoch 8: val_accuracy did not improve from 0.75417\n",
            "150/150 [==============================] - 130s 866ms/step - loss: 0.4444 - accuracy: 0.7490 - val_loss: 0.5353 - val_accuracy: 0.7308\n",
            "Epoch 9/20\n",
            "150/150 [==============================] - ETA: 0s - loss: 0.4356 - accuracy: 0.7623\n",
            "Epoch 9: val_accuracy did not improve from 0.75417\n",
            "150/150 [==============================] - 130s 866ms/step - loss: 0.4356 - accuracy: 0.7623 - val_loss: 0.5114 - val_accuracy: 0.7383\n",
            "Epoch 10/20\n",
            "150/150 [==============================] - ETA: 0s - loss: 0.4320 - accuracy: 0.7750\n",
            "Epoch 10: val_accuracy did not improve from 0.75417\n",
            "150/150 [==============================] - 130s 866ms/step - loss: 0.4320 - accuracy: 0.7750 - val_loss: 0.5200 - val_accuracy: 0.6900\n",
            "Epoch 11/20\n",
            "150/150 [==============================] - ETA: 0s - loss: 0.4048 - accuracy: 0.7896\n",
            "Epoch 11: val_accuracy improved from 0.75417 to 0.75833, saving model to /content/gdrive/MyDrive/model-11-0.7583.hdf5\n",
            "150/150 [==============================] - 143s 952ms/step - loss: 0.4048 - accuracy: 0.7896 - val_loss: 0.4987 - val_accuracy: 0.7583\n",
            "Epoch 12/20\n",
            "150/150 [==============================] - ETA: 0s - loss: 0.3657 - accuracy: 0.8090\n",
            "Epoch 12: val_accuracy did not improve from 0.75833\n",
            "150/150 [==============================] - 130s 865ms/step - loss: 0.3657 - accuracy: 0.8090 - val_loss: 0.5160 - val_accuracy: 0.7175\n",
            "Epoch 13/20\n",
            "150/150 [==============================] - ETA: 0s - loss: 0.3498 - accuracy: 0.8273\n",
            "Epoch 13: val_accuracy improved from 0.75833 to 0.76667, saving model to /content/gdrive/MyDrive/model-13-0.7667.hdf5\n",
            "150/150 [==============================] - 148s 985ms/step - loss: 0.3498 - accuracy: 0.8273 - val_loss: 0.4836 - val_accuracy: 0.7667\n",
            "Epoch 14/20\n",
            "150/150 [==============================] - ETA: 0s - loss: 0.3266 - accuracy: 0.8419\n",
            "Epoch 14: val_accuracy did not improve from 0.76667\n",
            "150/150 [==============================] - 130s 864ms/step - loss: 0.3266 - accuracy: 0.8419 - val_loss: 0.5664 - val_accuracy: 0.7592\n",
            "Epoch 15/20\n",
            "150/150 [==============================] - ETA: 0s - loss: 0.2825 - accuracy: 0.8625\n",
            "Epoch 15: val_accuracy did not improve from 0.76667\n",
            "150/150 [==============================] - 130s 864ms/step - loss: 0.2825 - accuracy: 0.8625 - val_loss: 0.6210 - val_accuracy: 0.7525\n",
            "Epoch 16/20\n",
            "150/150 [==============================] - ETA: 0s - loss: 0.2316 - accuracy: 0.8892\n",
            "Epoch 16: val_accuracy did not improve from 0.76667\n",
            "150/150 [==============================] - 130s 864ms/step - loss: 0.2316 - accuracy: 0.8892 - val_loss: 0.8989 - val_accuracy: 0.7517\n",
            "Epoch 17/20\n",
            "150/150 [==============================] - ETA: 0s - loss: 0.1988 - accuracy: 0.9081\n",
            "Epoch 17: val_accuracy improved from 0.76667 to 0.77500, saving model to /content/gdrive/MyDrive/model-17-0.7750.hdf5\n",
            "150/150 [==============================] - 146s 976ms/step - loss: 0.1988 - accuracy: 0.9081 - val_loss: 0.5501 - val_accuracy: 0.7750\n",
            "Epoch 18/20\n",
            "150/150 [==============================] - ETA: 0s - loss: 0.1871 - accuracy: 0.9152\n",
            "Epoch 18: val_accuracy did not improve from 0.77500\n",
            "150/150 [==============================] - 129s 863ms/step - loss: 0.1871 - accuracy: 0.9152 - val_loss: 0.5919 - val_accuracy: 0.7300\n",
            "Epoch 19/20\n",
            "150/150 [==============================] - ETA: 0s - loss: 0.1351 - accuracy: 0.9413\n",
            "Epoch 19: val_accuracy did not improve from 0.77500\n",
            "150/150 [==============================] - 129s 864ms/step - loss: 0.1351 - accuracy: 0.9413 - val_loss: 1.5756 - val_accuracy: 0.7458\n",
            "Epoch 20/20\n",
            "150/150 [==============================] - ETA: 0s - loss: 0.1164 - accuracy: 0.9560\n",
            "Epoch 20: val_accuracy did not improve from 0.77500\n",
            "150/150 [==============================] - 129s 863ms/step - loss: 0.1164 - accuracy: 0.9560 - val_loss: 1.5347 - val_accuracy: 0.7375\n"
          ]
        }
      ],
      "source": [
        "history1 = vgg19_model.fit(train_ds, epochs = 20, validation_data = val_ds, callbacks = [checkpoint])"
      ]
    },
    {
      "cell_type": "code",
      "execution_count": 30,
      "metadata": {
        "id": "kNl9yvleIs7O"
      },
      "outputs": [],
      "source": [
        "import matplotlib.pyplot as plt"
      ]
    },
    {
      "cell_type": "code",
      "execution_count": 31,
      "metadata": {
        "colab": {
          "base_uri": "https://localhost:8080/",
          "height": 466
        },
        "id": "CXhRWgVxAVk7",
        "outputId": "e80ea6ee-1fed-43aa-d997-efca46db2eb5"
      },
      "outputs": [
        {
          "data": {
            "text/plain": [
              "Text(0, 0.5, 'Accuracy')"
            ]
          },
          "execution_count": 31,
          "metadata": {},
          "output_type": "execute_result"
        },
        {
          "data": {
            "image/png": "[encoded data removed]",
            "text/plain": [
              "<Figure size 640x480 with 1 Axes>"
            ]
          },
          "metadata": {},
          "output_type": "display_data"
        }
      ],
      "source": [
        "plt.plot(history1.history['accuracy'], label='accuracy', color = 'black')\n",
        "plt.plot(history1.history['val_accuracy'], label = 'val_accuracy')\n",
        "plt.xlabel('Epoch')\n",
        "plt.ylabel('Accuracy')"
      ]
    },
    {
      "cell_type": "code",
      "execution_count": 33,
      "metadata": {
        "colab": {
          "base_uri": "https://localhost:8080/",
          "height": 466
        },
        "id": "bt1NIpt4Abp0",
        "outputId": "60c5918c-99e8-4d8e-bb36-0b0b34ae9f96"
      },
      "outputs": [
        {
          "data": {
            "text/plain": [
              "Text(0, 0.5, 'Loss')"
            ]
          },
          "execution_count": 33,
          "metadata": {},
          "output_type": "execute_result"
        },
        {
          "data": {
            "image/png": "[encoded data removed]",
            "text/plain": [
              "<Figure size 640x480 with 1 Axes>"
            ]
          },
          "metadata": {},
          "output_type": "display_data"
        }
      ],
      "source": [
        "plt.plot(history1.history['loss'], label='loss', color = 'black')\n",
        "plt.plot(history1.history['val_loss'], label = 'val_loss')\n",
        "plt.xlabel('Epoch')\n",
        "plt.ylabel('Loss')"
      ]
    },
    {
      "cell_type": "code",
      "execution_count": null,
      "metadata": {},
      "outputs": [],
      "source": [
        "test_data_dir = pathlib.Path(\"path to the testing dataset\")\n",
        "img_width = 224\n",
        "img_height = 224"
      ]
    },
    {
      "cell_type": "code",
      "execution_count": null,
      "metadata": {},
      "outputs": [],
      "source": [
        "test_ds = tf.keras.utils.image_dataset_from_directory(\n",
        "  test_data_dir,\n",
        "  seed=123,\n",
        "  image_size=(img_width, img_height),\n",
        "  batch_size=32)"
      ]
    },
    {
      "cell_type": "code",
      "execution_count": null,
      "metadata": {},
      "outputs": [],
      "source": [
        "normalization_layer = tf.keras.layers.Rescaling(1./255)"
      ]
    },
    {
      "cell_type": "code",
      "execution_count": null,
      "metadata": {},
      "outputs": [],
      "source": [
        "import numpy as np\n",
        "normalized_ds = train_ds.map(lambda x, y: (normalization_layer(x), y))\n",
        "image_batch, labels_batch = next(iter(normalized_ds))\n",
        "first_image = image_batch[0]\n",
        "# Notice the pixels values are now in `[0,1]`.\n",
        "print(np.min(first_image), np.max(first_image))"
      ]
    },
    {
      "cell_type": "code",
      "execution_count": null,
      "metadata": {},
      "outputs": [],
      "source": [
        "#load the best saved model\n",
        "model = \"path to best saved model.\"\n",
        "predictions = model.predict(test_ds)\n",
        "test_pred_classes = (predictions > 0.5).astype(np.int)"
      ]
    },
    {
      "cell_type": "code",
      "execution_count": null,
      "metadata": {},
      "outputs": [],
      "source": [
        "import os\n",
        "import pandas as pd\n",
        "\n",
        "# Path to the folder containing the images\n",
        "folder_path = 'path to the test dataset folder'\n",
        "\n",
        "# Get a list of all files in the folder\n",
        "file_names = os.listdir(folder_path)\n",
        "\n",
        "# Filter out non-image files (if needed)\n",
        "image_files = [file_name for file_name in file_names if file_name.endswith(('.jpg', '.jpeg', '.png', '.bmp'))]\n",
        "\n",
        "# Create a DataFrame with the image names\n",
        "df = pd.DataFrame({'Image Name': image_files, 'Predicted class label': y_pred_classes})\n",
        "\n",
        "print(df)\n",
        "\n",
        "df.to_excel('output.xlsx', index=False)"
      ]
    }
  ],
  "metadata": {
    "accelerator": "GPU",
    "colab": {
      "gpuType": "A100",
      "machine_shape": "hm",
      "provenance": []
    },
    "kernelspec": {
      "display_name": "Python 3",
      "name": "python3"
    },
    "language_info": {
      "name": "python"
    }
  },
  "nbformat": 4,
  "nbformat_minor": 0
}
